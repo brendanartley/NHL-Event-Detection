{
 "cells": [
  {
   "cell_type": "markdown",
   "metadata": {},
   "source": [
    "# <center>Reddit API Test</center>\n",
    "\n",
    "To use the reddit API, navigate to the following link to begin setup\n",
    "\n",
    "1. Got to this link and login https://www.reddit.com/prefs/apps\n",
    "<br></br>\n",
    "2. Name the application. Something like \"test_api\" or \"nhl_api\".\n",
    "<br></br>\n",
    "3. Select script radio button.\n",
    "<br></br>\n",
    "4. Optional: Add https://csil-git1.cs.surrey.sfu.ca/baa30/nhl_fan_sentiment if anyone needs to see what we are using the API for.\n",
    "\n",
    "For a more in depth tutorial on using the API, this is a great video to get started. \n",
    "\n",
    "[How to Use the Reddit API Youtube Tutorial](https://www.youtube.com/watch?v=FdjVoOf9HN4)\n"
   ]
  },
  {
   "cell_type": "code",
   "execution_count": 1,
   "metadata": {},
   "outputs": [],
   "source": [
    "import os\n",
    "import requests #type:ignore"
   ]
  },
  {
   "cell_type": "markdown",
   "metadata": {},
   "source": [
    "### Getting Keys\n",
    "\n",
    "Need to store these somewhere locally."
   ]
  },
  {
   "cell_type": "code",
   "execution_count": 2,
   "metadata": {},
   "outputs": [],
   "source": [
    "#storing keys elsewhere\n",
    "keys = !cat /Users/brendanartley/pj/pw.txt\n",
    "\n",
    "REDDIT_SECRET_KEY = keys[0].split()[1]\n",
    "CLIENT_ID = keys[1].split()[1]\n",
    "USERNAME = keys[2].split()[1]\n",
    "PASS = keys[3].split()[1]"
   ]
  },
  {
   "cell_type": "markdown",
   "metadata": {},
   "source": [
    "### Setting Things Up\n",
    "\n",
    "If we see \"response [200]\" after this cell we are all good to go. \n",
    "\n",
    "If you see 403 or anything else make sure all your variables are correctly set and your login details are working correctly."
   ]
  },
  {
   "cell_type": "code",
   "execution_count": 3,
   "metadata": {},
   "outputs": [
    {
     "data": {
      "text/plain": [
       "<Response [200]>"
      ]
     },
     "execution_count": 3,
     "metadata": {},
     "output_type": "execute_result"
    }
   ],
   "source": [
    "# note that CLIENT_ID refers to 'personal use script' and SECRET_TOKEN to 'token'\n",
    "auth = requests.auth.HTTPBasicAuth(CLIENT_ID, REDDIT_SECRET_KEY)\n",
    "\n",
    "# here we pass our login method (password), username, and password\n",
    "data = {'grant_type': 'password',\n",
    "        'username': USERNAME,\n",
    "        'password': PASS}\n",
    "\n",
    "# setup our header info, which gives reddit a brief description of our app\n",
    "headers = {'User-Agent': 'MyBot/0.0.1'}\n",
    "\n",
    "# send our request for an OAuth token\n",
    "res = requests.post('https://www.reddit.com/api/v1/access_token',\n",
    "                    auth=auth, data=data, headers=headers)\n",
    "\n",
    "# convert response to JSON and pull access_token value\n",
    "TOKEN = res.json()['access_token']\n",
    "\n",
    "# add authorization to our headers dictionary\n",
    "headers[\"Authorization\"] = \"bearer {}\".format(TOKEN)\n",
    "\n",
    "# while the token is valid (~2 hours) we just add headers=headers to our requests\n",
    "requests.get('https://oauth.reddit.com/api/v1/me', headers=headers)"
   ]
  },
  {
   "cell_type": "markdown",
   "metadata": {},
   "source": [
    "### Making Get Requests\n",
    "\n",
    "Here is a sample request getting \"hot\" posts from the python subreddit. The data is in a json format and a quite messy. See the example below.\n",
    "\n",
    "All data in the request is nested in ['data']['children']"
   ]
  },
  {
   "cell_type": "code",
   "execution_count": 4,
   "metadata": {},
   "outputs": [],
   "source": [
    "res = requests.get(\"https://oauth.reddit.com/r/canucks/hot\",\n",
    "                   headers=headers)\n",
    "test = res.json()"
   ]
  },
  {
   "cell_type": "code",
   "execution_count": 5,
   "metadata": {},
   "outputs": [
    {
     "name": "stdout",
     "output_type": "stream",
     "text": [
      "WEEKLY DISCUSSION THREAD! NOVEMBER 01, 2021\n",
      "MEETING OF THE POD: RANGERS @ CANUCKS - 11/02/2021\n",
      "RE: Transit from the Valley to Vancouver Canucks games\n",
      "Eichel traded to the golden knights\n",
      "Saw a rad Canucks mural here on Reddit, reached out to Sportsnet and was able to get a copy of the artwork to install in my home gym! Shout out to Jonny at the team at Rogers for the hook-up!\n",
      "Ok hear me out\n"
     ]
    }
   ],
   "source": [
    "#printing the first 5 titles\n",
    "for i, post in enumerate(test['data']['children']):\n",
    "    print(post['data']['title'])\n",
    "    if i == 5:\n",
    "        break\n",
    "    "
   ]
  },
  {
   "cell_type": "markdown",
   "metadata": {},
   "source": [
    "### Thoughts\n",
    "\n",
    "There seems to be potential in using the reddit api to stream data in real time. Note that the maximum number of request per minute is 60.\n",
    "\n",
    "Need to experiment more, but we may be able to use this API to quickly access past game threads. More experiments needed."
   ]
  },
  {
   "cell_type": "code",
   "execution_count": 6,
   "metadata": {},
   "outputs": [
    {
     "data": {
      "text/plain": [
       "{'kind': 't3',\n",
       " 'data': {'approved_at_utc': None,\n",
       "  'subreddit': 'canucks',\n",
       "  'selftext': \"#THIS WEEK'S GAMES\\n\\n|HOME|AWAY|GAME THREAD|POST GAME|DATE/SCORE|\\n|:--:|:--:|:--:|:--:|:--:|\\n|[ VAN ](/r/canucks)|[ NYR ](/r/rangers)|[GT](/r/canucks/comments/qljoft/gt_new_york_rangers_621_vancouver_canucks_351/)|[PGT](/r/canucks/comments/qlmrk7/pgt_new_york_rangers_vancouver_canucks_11022021/)|**Canucks win 3-2 in OT!**|\\n|[ VAN ](/r/canucks)|[ NSH ](/r/predators)|||Friday Nov 05 - 07:00 PM|\\n|[ VAN ](/r/canucks)|[ DAL ](/r/dallasstars)|||Sunday Nov 07 - 07:00 PM|\\n\\n---\\n\\n#STICKIED THREADS\\n\\n[/r/Canucks Ticket Exchange Thread](/r/canucks/comments/qkfu4j/rcanucks_ticket_exchange_thread/)\\n\\n[Rule Reminder: Don't post unofficial streams](/r/canucks/comments/pw0y66/rule_reminder_dont_post_unofficial_streams/)\\n\\n[Slight rule clarification - toxicity on the sub](/r/canucks/comments/osqe3c/slight_rule_clarification_toxicity_on_the_sub/)\\n\\n[A Message from your Mod Team regarding the State of the Sub](/r/canucks/comments/mzvt7q/a_message_from_your_mod_team_regarding_the_state/)\\n\\n[/r/Canucks Post Flairs and How To Use Them](/r/canucks/comments/jjtirq/rcanucks_post_flairs_and_how_to_use_them/)\\n\\n[STOP POSTING THINGS WITHOUT CITING SOURCES](/r/canucks/comments/j7o1bh/stop_posting_things_without_citing_sources/)\\n\\n[/r/canucks hits 60,000 subscribers!](/r/canucks/comments/ikzrl9/rcanucks_hits_60000_subscribers/)\\n\\n#LAST WEEK'S HOT TOPICS\\n\\n[Why Is the leash so much longer for Green and Jimbo?](https://redd.it/qj8hux)\\n\\n[Low demand for tonight's game](https://redd.it/qgbsj6)\\n\\n[I think Bruce Boudreau would be a fantastic coach for this team](https://redd.it/qi6etf)\\n\\n#USEFUL LINKS\\r\\n\\r\\n[Rules &amp; Guidelines](https://www.reddit.com/r/canucks/wiki/rules)\\r\\n\\r\\n[/r/Canucks discord server](https://discord.gg/qqB2Tca)\\r\\n\\r\\n--- \\r\\n\\r\\nHave any suggestions for these threads? Notice any bugs? Message /u/PhenomenonYT\",\n",
       "  'author_fullname': 't2_i73l7',\n",
       "  'saved': False,\n",
       "  'mod_reason_title': None,\n",
       "  'gilded': 0,\n",
       "  'clicked': False,\n",
       "  'title': 'WEEKLY DISCUSSION THREAD! NOVEMBER 01, 2021',\n",
       "  'link_flair_richtext': [{'e': 'text', 't': 'DISCUSSION'}],\n",
       "  'subreddit_name_prefixed': 'r/canucks',\n",
       "  'hidden': False,\n",
       "  'pwls': 6,\n",
       "  'link_flair_css_class': 'linkflair',\n",
       "  'downs': 0,\n",
       "  'thumbnail_height': None,\n",
       "  'top_awarded_type': None,\n",
       "  'hide_score': False,\n",
       "  'name': 't3_qkmwfh',\n",
       "  'quarantine': False,\n",
       "  'link_flair_text_color': 'dark',\n",
       "  'upvote_ratio': 0.88,\n",
       "  'author_flair_background_color': '',\n",
       "  'subreddit_type': 'public',\n",
       "  'ups': 16,\n",
       "  'total_awards_received': 0,\n",
       "  'media_embed': {},\n",
       "  'thumbnail_width': None,\n",
       "  'author_flair_template_id': None,\n",
       "  'is_original_content': False,\n",
       "  'user_reports': [],\n",
       "  'secure_media': None,\n",
       "  'is_reddit_media_domain': False,\n",
       "  'is_meta': False,\n",
       "  'category': None,\n",
       "  'secure_media_embed': {},\n",
       "  'link_flair_text': 'DISCUSSION',\n",
       "  'can_mod_post': False,\n",
       "  'score': 16,\n",
       "  'approved_by': None,\n",
       "  'is_created_from_ads_ui': False,\n",
       "  'author_premium': False,\n",
       "  'thumbnail': 'self',\n",
       "  'edited': 1635914418.0,\n",
       "  'author_flair_css_class': 'bot',\n",
       "  'author_flair_richtext': [{'a': ':bot:',\n",
       "    'e': 'emoji',\n",
       "    'u': 'https://emoji.redditmedia.com/pkkjw2ib0qw21_t5_2qrs7/bot'}],\n",
       "  'gildings': {},\n",
       "  'content_categories': None,\n",
       "  'is_self': True,\n",
       "  'mod_note': None,\n",
       "  'created': 1635798256.0,\n",
       "  'link_flair_type': 'richtext',\n",
       "  'wls': 6,\n",
       "  'removed_by_category': None,\n",
       "  'banned_by': None,\n",
       "  'author_flair_type': 'richtext',\n",
       "  'domain': 'self.canucks',\n",
       "  'allow_live_comments': True,\n",
       "  'selftext_html': '&lt;!-- SC_OFF --&gt;&lt;div class=\"md\"&gt;&lt;h1&gt;THIS WEEK&amp;#39;S GAMES&lt;/h1&gt;\\n\\n&lt;table&gt;&lt;thead&gt;\\n&lt;tr&gt;\\n&lt;th align=\"center\"&gt;HOME&lt;/th&gt;\\n&lt;th align=\"center\"&gt;AWAY&lt;/th&gt;\\n&lt;th align=\"center\"&gt;GAME THREAD&lt;/th&gt;\\n&lt;th align=\"center\"&gt;POST GAME&lt;/th&gt;\\n&lt;th align=\"center\"&gt;DATE/SCORE&lt;/th&gt;\\n&lt;/tr&gt;\\n&lt;/thead&gt;&lt;tbody&gt;\\n&lt;tr&gt;\\n&lt;td align=\"center\"&gt;&lt;a href=\"/r/canucks\"&gt; VAN &lt;/a&gt;&lt;/td&gt;\\n&lt;td align=\"center\"&gt;&lt;a href=\"/r/rangers\"&gt; NYR &lt;/a&gt;&lt;/td&gt;\\n&lt;td align=\"center\"&gt;&lt;a href=\"/r/canucks/comments/qljoft/gt_new_york_rangers_621_vancouver_canucks_351/\"&gt;GT&lt;/a&gt;&lt;/td&gt;\\n&lt;td align=\"center\"&gt;&lt;a href=\"/r/canucks/comments/qlmrk7/pgt_new_york_rangers_vancouver_canucks_11022021/\"&gt;PGT&lt;/a&gt;&lt;/td&gt;\\n&lt;td align=\"center\"&gt;&lt;strong&gt;Canucks win 3-2 in OT!&lt;/strong&gt;&lt;/td&gt;\\n&lt;/tr&gt;\\n&lt;tr&gt;\\n&lt;td align=\"center\"&gt;&lt;a href=\"/r/canucks\"&gt; VAN &lt;/a&gt;&lt;/td&gt;\\n&lt;td align=\"center\"&gt;&lt;a href=\"/r/predators\"&gt; NSH &lt;/a&gt;&lt;/td&gt;\\n&lt;td align=\"center\"&gt;&lt;/td&gt;\\n&lt;td align=\"center\"&gt;&lt;/td&gt;\\n&lt;td align=\"center\"&gt;Friday Nov 05 - 07:00 PM&lt;/td&gt;\\n&lt;/tr&gt;\\n&lt;tr&gt;\\n&lt;td align=\"center\"&gt;&lt;a href=\"/r/canucks\"&gt; VAN &lt;/a&gt;&lt;/td&gt;\\n&lt;td align=\"center\"&gt;&lt;a href=\"/r/dallasstars\"&gt; DAL &lt;/a&gt;&lt;/td&gt;\\n&lt;td align=\"center\"&gt;&lt;/td&gt;\\n&lt;td align=\"center\"&gt;&lt;/td&gt;\\n&lt;td align=\"center\"&gt;Sunday Nov 07 - 07:00 PM&lt;/td&gt;\\n&lt;/tr&gt;\\n&lt;/tbody&gt;&lt;/table&gt;\\n\\n&lt;hr/&gt;\\n\\n&lt;h1&gt;STICKIED THREADS&lt;/h1&gt;\\n\\n&lt;p&gt;&lt;a href=\"/r/canucks/comments/qkfu4j/rcanucks_ticket_exchange_thread/\"&gt;/r/Canucks Ticket Exchange Thread&lt;/a&gt;&lt;/p&gt;\\n\\n&lt;p&gt;&lt;a href=\"/r/canucks/comments/pw0y66/rule_reminder_dont_post_unofficial_streams/\"&gt;Rule Reminder: Don&amp;#39;t post unofficial streams&lt;/a&gt;&lt;/p&gt;\\n\\n&lt;p&gt;&lt;a href=\"/r/canucks/comments/osqe3c/slight_rule_clarification_toxicity_on_the_sub/\"&gt;Slight rule clarification - toxicity on the sub&lt;/a&gt;&lt;/p&gt;\\n\\n&lt;p&gt;&lt;a href=\"/r/canucks/comments/mzvt7q/a_message_from_your_mod_team_regarding_the_state/\"&gt;A Message from your Mod Team regarding the State of the Sub&lt;/a&gt;&lt;/p&gt;\\n\\n&lt;p&gt;&lt;a href=\"/r/canucks/comments/jjtirq/rcanucks_post_flairs_and_how_to_use_them/\"&gt;/r/Canucks Post Flairs and How To Use Them&lt;/a&gt;&lt;/p&gt;\\n\\n&lt;p&gt;&lt;a href=\"/r/canucks/comments/j7o1bh/stop_posting_things_without_citing_sources/\"&gt;STOP POSTING THINGS WITHOUT CITING SOURCES&lt;/a&gt;&lt;/p&gt;\\n\\n&lt;p&gt;&lt;a href=\"/r/canucks/comments/ikzrl9/rcanucks_hits_60000_subscribers/\"&gt;/r/canucks hits 60,000 subscribers!&lt;/a&gt;&lt;/p&gt;\\n\\n&lt;h1&gt;LAST WEEK&amp;#39;S HOT TOPICS&lt;/h1&gt;\\n\\n&lt;p&gt;&lt;a href=\"https://redd.it/qj8hux\"&gt;Why Is the leash so much longer for Green and Jimbo?&lt;/a&gt;&lt;/p&gt;\\n\\n&lt;p&gt;&lt;a href=\"https://redd.it/qgbsj6\"&gt;Low demand for tonight&amp;#39;s game&lt;/a&gt;&lt;/p&gt;\\n\\n&lt;p&gt;&lt;a href=\"https://redd.it/qi6etf\"&gt;I think Bruce Boudreau would be a fantastic coach for this team&lt;/a&gt;&lt;/p&gt;\\n\\n&lt;h1&gt;USEFUL LINKS&lt;/h1&gt;\\n\\n&lt;p&gt;&lt;a href=\"https://www.reddit.com/r/canucks/wiki/rules\"&gt;Rules &amp;amp; Guidelines&lt;/a&gt;&lt;/p&gt;\\n\\n&lt;p&gt;&lt;a href=\"https://discord.gg/qqB2Tca\"&gt;/r/Canucks discord server&lt;/a&gt;&lt;/p&gt;\\n\\n&lt;hr/&gt;\\n\\n&lt;p&gt;Have any suggestions for these threads? Notice any bugs? Message &lt;a href=\"/u/PhenomenonYT\"&gt;/u/PhenomenonYT&lt;/a&gt;&lt;/p&gt;\\n&lt;/div&gt;&lt;!-- SC_ON --&gt;',\n",
       "  'likes': None,\n",
       "  'suggested_sort': 'new',\n",
       "  'banned_at_utc': None,\n",
       "  'view_count': None,\n",
       "  'archived': False,\n",
       "  'no_follow': False,\n",
       "  'is_crosspostable': True,\n",
       "  'pinned': False,\n",
       "  'over_18': False,\n",
       "  'all_awardings': [],\n",
       "  'awarders': [],\n",
       "  'media_only': False,\n",
       "  'can_gild': True,\n",
       "  'spoiler': False,\n",
       "  'locked': False,\n",
       "  'author_flair_text': ':bot:',\n",
       "  'treatment_tags': [],\n",
       "  'visited': False,\n",
       "  'removed_by': None,\n",
       "  'num_reports': None,\n",
       "  'distinguished': 'moderator',\n",
       "  'subreddit_id': 't5_2qrs7',\n",
       "  'author_is_blocked': False,\n",
       "  'mod_reason_by': None,\n",
       "  'removal_reason': None,\n",
       "  'link_flair_background_color': '',\n",
       "  'id': 'qkmwfh',\n",
       "  'is_robot_indexable': True,\n",
       "  'report_reasons': None,\n",
       "  'author': 'OrlandKurtenbot',\n",
       "  'discussion_type': None,\n",
       "  'num_comments': 37,\n",
       "  'send_replies': False,\n",
       "  'whitelist_status': 'all_ads',\n",
       "  'contest_mode': False,\n",
       "  'mod_reports': [],\n",
       "  'author_patreon_flair': False,\n",
       "  'author_flair_text_color': 'dark',\n",
       "  'permalink': '/r/canucks/comments/qkmwfh/weekly_discussion_thread_november_01_2021/',\n",
       "  'parent_whitelist_status': 'all_ads',\n",
       "  'stickied': True,\n",
       "  'url': 'https://www.reddit.com/r/canucks/comments/qkmwfh/weekly_discussion_thread_november_01_2021/',\n",
       "  'subreddit_subscribers': 79398,\n",
       "  'created_utc': 1635798256.0,\n",
       "  'num_crossposts': 0,\n",
       "  'media': None,\n",
       "  'is_video': False}}"
      ]
     },
     "execution_count": 6,
     "metadata": {},
     "output_type": "execute_result"
    }
   ],
   "source": [
    "test['data']['children'][0]"
   ]
  },
  {
   "cell_type": "code",
   "execution_count": null,
   "metadata": {},
   "outputs": [],
   "source": []
  },
  {
   "cell_type": "code",
   "execution_count": null,
   "metadata": {},
   "outputs": [],
   "source": []
  }
 ],
 "metadata": {
  "interpreter": {
   "hash": "949777d72b0d2535278d3dc13498b2535136f6dfe0678499012e853ee9abcab1"
  },
  "kernelspec": {
   "display_name": "Python 3.8.3 64-bit",
   "name": "python3"
  },
  "language_info": {
   "codemirror_mode": {
    "name": "ipython",
    "version": 3
   },
   "file_extension": ".py",
   "mimetype": "text/x-python",
   "name": "python",
   "nbconvert_exporter": "python",
   "pygments_lexer": "ipython3",
   "version": "3.8.3"
  },
  "orig_nbformat": 4
 },
 "nbformat": 4,
 "nbformat_minor": 2
}
